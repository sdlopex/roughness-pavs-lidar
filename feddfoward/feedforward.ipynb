{
 "cells": [
  {
   "cell_type": "markdown",
   "id": "d96b0413",
   "metadata": {},
   "source": [
    "## Cargando datos con PDAL"
   ]
  },
  {
   "cell_type": "code",
   "execution_count": 1,
   "id": "a7045688",
   "metadata": {},
   "outputs": [
    {
     "name": "stderr",
     "output_type": "stream",
     "text": [
      "2024-11-24 01:10:16.704718: I tensorflow/stream_executor/platform/default/dso_loader.cc:53] Successfully opened dynamic library libcudart.so.11.0\n"
     ]
    }
   ],
   "source": [
    "import pdal\n",
    "import numpy as np\n",
    "from keras import layers\n",
    "from keras import models\n",
    "from keras.utils.np_utils import to_categorical"
   ]
  },
  {
   "cell_type": "code",
   "execution_count": 2,
   "id": "1e48153e",
   "metadata": {},
   "outputs": [],
   "source": [
    "ppl=\"\"\"\n",
    "    {\n",
    "        \"pipeline\":[\n",
    "            \"/mnt/c/Users/SergioLopez/Desktop/jupys/4_datosLidar/cassetteDefinitivo.ply\"  \n",
    "        ]  \n",
    "    }\"\"\"\n",
    "\n",
    "pipeline = pdal.Pipeline(ppl)\n",
    "count = pipeline.execute()"
   ]
  },
  {
   "cell_type": "code",
   "execution_count": 3,
   "id": "39caa98a",
   "metadata": {
    "scrolled": true
   },
   "outputs": [
    {
     "name": "stdout",
     "output_type": "stream",
     "text": [
      "numero de puntos de la nube cargada: 12000000\n"
     ]
    }
   ],
   "source": [
    "print('numero de puntos de la nube cargada: '+str(count))"
   ]
  },
  {
   "cell_type": "code",
   "execution_count": 4,
   "id": "7e957fb2",
   "metadata": {},
   "outputs": [],
   "source": [
    "dtst_ini=pipeline.arrays[0]\n",
    "encbz_ini=pipeline.arrays[0].dtype.names"
   ]
  },
  {
   "cell_type": "code",
   "execution_count": 5,
   "id": "160a330b",
   "metadata": {
    "scrolled": true
   },
   "outputs": [
    {
     "name": "stdout",
     "output_type": "stream",
     "text": [
      "DATOS SUBIDOS CON PDAL\n",
      "\n",
      "('X', 'Y', 'Z', 'gps_time', 'x_origin', 'y_origin', 'z_origin', 'Reflectance', 'range', 'theta', 'id', 'class', 'num_echo', 'nb_of_echo', 'NormalX', 'NormalY', 'NormalZ', 'Curvature', 'Coplanar', 'Classification', 'Linearity', 'Planarity', 'Scattering', 'Verticality', 'clase')\n",
      "[(1903.38293457, 21122.49023438, 38.99118042, 54325.7300208, 1907.91113281, 21121.59375, 41.3255806 , -10.13949299, 5.17300034, -1.0635941 , 0., 3.030402e+08, 1., 1., 0.01977234, 0.03841527, 0.99906622, 0.00012633, 1., 2., 0.49403227, 0.49337065, 0.01259707, 0.02502576, 2.)\n",
      " (1903.40454102, 21122.48632812, 38.99028397, 54325.7300242, 1907.91101074, 21121.59375, 41.32598877,  -9.90949535, 5.15375042, -1.06141925, 0., 3.030402e+08, 1., 1., 0.01281706, 0.03584899, 0.99927502, 0.00019276, 1., 2., 0.40250596, 0.58131918, 0.01617487, 0.02798473, 2.)\n",
      " (1903.42822266, 21122.48046875, 38.99054718, 54325.7300277, 1907.9107666 , 21121.59375, 41.32639694,  -9.55949783, 5.13200045, -1.0592308 , 0., 3.030402e+08, 1., 1., 0.00815235, 0.03676174, 0.99929081, 0.00021907, 1., 2., 0.51309184, 0.47044421, 0.01646395, 0.02751642, 2.)]\n"
     ]
    }
   ],
   "source": [
    "print('DATOS SUBIDOS CON PDAL\\n')\n",
    "print(encbz_ini)\n",
    "print(dtst_ini[:3])"
   ]
  },
  {
   "cell_type": "code",
   "execution_count": 6,
   "id": "1951f2c7",
   "metadata": {},
   "outputs": [],
   "source": [
    "encabezado=['X', 'Y', 'Z', 'theta', 'NormalX', 'NormalY', 'NormalZ', 'Linearity', 'Planarity', 'Scattering', 'Verticality', 'clase']"
   ]
  },
  {
   "cell_type": "code",
   "execution_count": 7,
   "id": "bb5a5ff2",
   "metadata": {},
   "outputs": [],
   "source": [
    "xyz=np.zeros((len(dtst_ini),len(encabezado)))"
   ]
  },
  {
   "cell_type": "code",
   "execution_count": 8,
   "id": "52f5d12c",
   "metadata": {},
   "outputs": [
    {
     "data": {
      "text/plain": [
       "(12000000, 12)"
      ]
     },
     "execution_count": 8,
     "metadata": {},
     "output_type": "execute_result"
    }
   ],
   "source": [
    "xyz.shape"
   ]
  },
  {
   "cell_type": "code",
   "execution_count": 9,
   "id": "57a20eaa",
   "metadata": {},
   "outputs": [],
   "source": [
    "for e in range(len(xyz)):\n",
    "    for i in range(len(encabezado)):\n",
    "        xyz[e,i]=dtst_ini[e][encbz_ini.index(encabezado[i])]"
   ]
  },
  {
   "cell_type": "code",
   "execution_count": 10,
   "id": "5ec8be10",
   "metadata": {
    "scrolled": true
   },
   "outputs": [
    {
     "data": {
      "text/plain": [
       "array([[1.90338293e+03, 2.11224902e+04, 3.89911804e+01, ...,\n",
       "        1.25970744e-02, 2.50257560e-02, 2.00000000e+00],\n",
       "       [1.90340454e+03, 2.11224863e+04, 3.89902840e+01, ...,\n",
       "        1.61748654e-02, 2.79847337e-02, 2.00000000e+00],\n",
       "       [1.90342822e+03, 2.11224805e+04, 3.89905472e+01, ...,\n",
       "        1.64639474e-02, 2.75164201e-02, 2.00000000e+00],\n",
       "       ...,\n",
       "       [1.89643286e+03, 2.13282695e+04, 3.78392601e+01, ...,\n",
       "        5.47840331e-02, 5.02015847e-02, 0.00000000e+00],\n",
       "       [1.89643970e+03, 2.13282695e+04, 3.78372459e+01, ...,\n",
       "        5.37893355e-02, 5.38702627e-02, 0.00000000e+00],\n",
       "       [1.89644543e+03, 2.13282715e+04, 3.78375206e+01, ...,\n",
       "        5.11764411e-02, 7.01157388e-02, 0.00000000e+00]])"
      ]
     },
     "execution_count": 10,
     "metadata": {},
     "output_type": "execute_result"
    }
   ],
   "source": [
    "xyz"
   ]
  },
  {
   "cell_type": "markdown",
   "id": "8fd0d9a3",
   "metadata": {},
   "source": [
    "## Datasets"
   ]
  },
  {
   "cell_type": "code",
   "execution_count": 11,
   "id": "e96ad288",
   "metadata": {},
   "outputs": [],
   "source": [
    "ptos=xyz[:,:3]"
   ]
  },
  {
   "cell_type": "code",
   "execution_count": 12,
   "id": "ba9833be",
   "metadata": {},
   "outputs": [],
   "source": [
    "xs=xyz[:,3:-1]"
   ]
  },
  {
   "cell_type": "code",
   "execution_count": 13,
   "id": "7e363b76",
   "metadata": {},
   "outputs": [],
   "source": [
    "ys=xyz[:,-1]"
   ]
  },
  {
   "cell_type": "code",
   "execution_count": 14,
   "id": "e0537bfc",
   "metadata": {
    "scrolled": true
   },
   "outputs": [],
   "source": [
    "one_hot_train_labels = to_categorical(ys)"
   ]
  },
  {
   "cell_type": "code",
   "execution_count": 15,
   "id": "9da6db20",
   "metadata": {},
   "outputs": [],
   "source": [
    "ptos_train=ptos[6000000:]\n",
    "x_train=xs[6000000:]\n",
    "y_train=one_hot_train_labels[6000000:]"
   ]
  },
  {
   "cell_type": "code",
   "execution_count": 16,
   "id": "ff9a8f1c",
   "metadata": {},
   "outputs": [],
   "source": [
    "ptos_val=ptos[5000000:6000000]\n",
    "x_val=xs[5000000:6000000]\n",
    "y_val=one_hot_train_labels[5000000:6000000]"
   ]
  },
  {
   "cell_type": "code",
   "execution_count": 17,
   "id": "da5f3e22",
   "metadata": {},
   "outputs": [],
   "source": [
    "ptos_test=ptos[:5000000]\n",
    "x_test=xs[:5000000]\n",
    "y_test=one_hot_train_labels[:5000000]"
   ]
  },
  {
   "cell_type": "code",
   "execution_count": null,
   "id": "f69537b1",
   "metadata": {},
   "outputs": [],
   "source": []
  },
  {
   "cell_type": "markdown",
   "id": "3845c04f",
   "metadata": {},
   "source": [
    "# Creación de la red"
   ]
  },
  {
   "cell_type": "raw",
   "id": "06463561-34b3-4dd3-aa3a-dbb53a841de6",
   "metadata": {},
   "source": [
    "model.add(layers.Dense(64, activation='relu'))\n",
    "model.add(layers.Dense(128, activation='relu'))\n",
    "model.add(layers.Dense(256, activation='relu'))\n",
    "model.add(layers.Dense(256, activation='relu'))\n",
    "model.add(layers.Dense(256, activation='relu'))\n",
    "model.add(layers.Dense(256, activation='relu'))\n",
    "model.add(layers.Dense(128, activation='relu'))\n",
    "model.add(layers.Dense(64, activation='relu'))\n",
    "model.add(layers.Dense(32, activation='relu'))"
   ]
  },
  {
   "cell_type": "code",
   "execution_count": 18,
   "id": "428fcd43",
   "metadata": {},
   "outputs": [
    {
     "name": "stderr",
     "output_type": "stream",
     "text": [
      "2024-11-24 01:24:15.747067: I tensorflow/stream_executor/platform/default/dso_loader.cc:53] Successfully opened dynamic library libcuda.so.1\n",
      "2024-11-24 01:24:16.080081: I tensorflow/stream_executor/cuda/cuda_gpu_executor.cc:923] could not open file to read NUMA node: /sys/bus/pci/devices/0000:01:00.0/numa_node\n",
      "Your kernel may have been built without NUMA support.\n",
      "2024-11-24 01:24:16.083941: I tensorflow/core/common_runtime/gpu/gpu_device.cc:1733] Found device 0 with properties: \n",
      "pciBusID: 0000:01:00.0 name: NVIDIA GeForce GTX 1660 Ti computeCapability: 7.5\n",
      "coreClock: 1.59GHz coreCount: 24 deviceMemorySize: 6.00GiB deviceMemoryBandwidth: 268.26GiB/s\n",
      "2024-11-24 01:24:16.083987: I tensorflow/stream_executor/platform/default/dso_loader.cc:53] Successfully opened dynamic library libcudart.so.11.0\n",
      "2024-11-24 01:24:16.116120: I tensorflow/stream_executor/platform/default/dso_loader.cc:53] Successfully opened dynamic library libcublas.so.11\n",
      "2024-11-24 01:24:16.116200: I tensorflow/stream_executor/platform/default/dso_loader.cc:53] Successfully opened dynamic library libcublasLt.so.11\n",
      "2024-11-24 01:24:16.131920: I tensorflow/stream_executor/platform/default/dso_loader.cc:53] Successfully opened dynamic library libcufft.so.10\n",
      "2024-11-24 01:24:16.143169: I tensorflow/stream_executor/platform/default/dso_loader.cc:53] Successfully opened dynamic library libcurand.so.10\n",
      "2024-11-24 01:24:16.148137: I tensorflow/stream_executor/platform/default/dso_loader.cc:53] Successfully opened dynamic library libcusolver.so.11\n",
      "2024-11-24 01:24:16.815824: I tensorflow/stream_executor/platform/default/dso_loader.cc:53] Successfully opened dynamic library libcusparse.so.11\n",
      "2024-11-24 01:24:17.059660: I tensorflow/stream_executor/platform/default/dso_loader.cc:53] Successfully opened dynamic library libcudnn.so.8\n",
      "2024-11-24 01:24:17.062686: I tensorflow/stream_executor/cuda/cuda_gpu_executor.cc:923] could not open file to read NUMA node: /sys/bus/pci/devices/0000:01:00.0/numa_node\n",
      "Your kernel may have been built without NUMA support.\n",
      "2024-11-24 01:24:17.065403: I tensorflow/stream_executor/cuda/cuda_gpu_executor.cc:923] could not open file to read NUMA node: /sys/bus/pci/devices/0000:01:00.0/numa_node\n",
      "Your kernel may have been built without NUMA support.\n",
      "2024-11-24 01:24:17.119365: I tensorflow/core/common_runtime/gpu/gpu_device.cc:1871] Adding visible gpu devices: 0\n",
      "2024-11-24 01:24:17.181959: I tensorflow/core/platform/cpu_feature_guard.cc:142] This TensorFlow binary is optimized with oneAPI Deep Neural Network Library (oneDNN) to use the following CPU instructions in performance-critical operations:  AVX2 FMA\n",
      "To enable them in other operations, rebuild TensorFlow with the appropriate compiler flags.\n",
      "2024-11-24 01:24:17.188419: I tensorflow/stream_executor/cuda/cuda_gpu_executor.cc:923] could not open file to read NUMA node: /sys/bus/pci/devices/0000:01:00.0/numa_node\n",
      "Your kernel may have been built without NUMA support.\n",
      "2024-11-24 01:24:17.188519: I tensorflow/core/common_runtime/gpu/gpu_device.cc:1733] Found device 0 with properties: \n",
      "pciBusID: 0000:01:00.0 name: NVIDIA GeForce GTX 1660 Ti computeCapability: 7.5\n",
      "coreClock: 1.59GHz coreCount: 24 deviceMemorySize: 6.00GiB deviceMemoryBandwidth: 268.26GiB/s\n",
      "2024-11-24 01:24:17.191362: I tensorflow/stream_executor/cuda/cuda_gpu_executor.cc:923] could not open file to read NUMA node: /sys/bus/pci/devices/0000:01:00.0/numa_node\n",
      "Your kernel may have been built without NUMA support.\n",
      "2024-11-24 01:24:17.194002: I tensorflow/stream_executor/cuda/cuda_gpu_executor.cc:923] could not open file to read NUMA node: /sys/bus/pci/devices/0000:01:00.0/numa_node\n",
      "Your kernel may have been built without NUMA support.\n",
      "2024-11-24 01:24:17.194073: I tensorflow/core/common_runtime/gpu/gpu_device.cc:1871] Adding visible gpu devices: 0\n",
      "2024-11-24 01:24:17.239938: I tensorflow/stream_executor/platform/default/dso_loader.cc:53] Successfully opened dynamic library libcudart.so.11.0\n",
      "2024-11-24 01:24:21.282974: I tensorflow/core/common_runtime/gpu/gpu_device.cc:1258] Device interconnect StreamExecutor with strength 1 edge matrix:\n",
      "2024-11-24 01:24:21.282996: I tensorflow/core/common_runtime/gpu/gpu_device.cc:1264]      0 \n",
      "2024-11-24 01:24:21.283002: I tensorflow/core/common_runtime/gpu/gpu_device.cc:1277] 0:   N \n",
      "2024-11-24 01:24:21.283690: I tensorflow/stream_executor/cuda/cuda_gpu_executor.cc:923] could not open file to read NUMA node: /sys/bus/pci/devices/0000:01:00.0/numa_node\n",
      "Your kernel may have been built without NUMA support.\n",
      "2024-11-24 01:24:21.284124: I tensorflow/stream_executor/cuda/cuda_gpu_executor.cc:923] could not open file to read NUMA node: /sys/bus/pci/devices/0000:01:00.0/numa_node\n",
      "Your kernel may have been built without NUMA support.\n",
      "2024-11-24 01:24:21.284137: I tensorflow/core/common_runtime/gpu/gpu_device.cc:1501] Could not identify NUMA node of platform GPU id 0, defaulting to 0.  Your kernel may not have been built with NUMA support.\n",
      "2024-11-24 01:24:21.284522: I tensorflow/stream_executor/cuda/cuda_gpu_executor.cc:923] could not open file to read NUMA node: /sys/bus/pci/devices/0000:01:00.0/numa_node\n",
      "Your kernel may have been built without NUMA support.\n",
      "2024-11-24 01:24:21.284561: I tensorflow/core/common_runtime/gpu/gpu_device.cc:1418] Created TensorFlow device (/job:localhost/replica:0/task:0/device:GPU:0 with 3959 MB memory) -> physical GPU (device: 0, name: NVIDIA GeForce GTX 1660 Ti, pci bus id: 0000:01:00.0, compute capability: 7.5)\n"
     ]
    }
   ],
   "source": [
    "#creación del modelo\n",
    "model = models.Sequential()\n",
    "model.add(layers.Dense(45, activation='relu', input_shape=(8,))) # 8 son las carateristicas a evaluar en cada ejemplo\n",
    "model.add(layers.Dense(3, activation='softmax')) # 3 clases para la clasificacion "
   ]
  },
  {
   "cell_type": "code",
   "execution_count": 19,
   "id": "5362ae6c-35bc-4373-8009-c11f3bccb1c6",
   "metadata": {},
   "outputs": [
    {
     "name": "stdout",
     "output_type": "stream",
     "text": [
      "Model: \"sequential\"\n",
      "_________________________________________________________________\n",
      "Layer (type)                 Output Shape              Param #   \n",
      "=================================================================\n",
      "dense (Dense)                (None, 45)                405       \n",
      "_________________________________________________________________\n",
      "dense_1 (Dense)              (None, 3)                 138       \n",
      "=================================================================\n",
      "Total params: 543\n",
      "Trainable params: 543\n",
      "Non-trainable params: 0\n",
      "_________________________________________________________________\n"
     ]
    }
   ],
   "source": [
    "model.summary()"
   ]
  },
  {
   "cell_type": "code",
   "execution_count": 20,
   "id": "ce99367a",
   "metadata": {},
   "outputs": [],
   "source": [
    "model.compile(optimizer='adam',\n",
    "loss='categorical_crossentropy',\n",
    "metrics=['accuracy'])"
   ]
  },
  {
   "cell_type": "raw",
   "id": "9e0825f3",
   "metadata": {},
   "source": [
    "#datos de validacion\n",
    "x_val = x_train[:1000000]\n",
    "partial_x_train = x_train[1000000:]\n",
    "y_val = one_hot_train_labels[:1000000]\n",
    "partial_y_train = one_hot_train_labels[1000000:]"
   ]
  },
  {
   "cell_type": "code",
   "execution_count": 21,
   "id": "e844197e",
   "metadata": {
    "scrolled": true
   },
   "outputs": [
    {
     "name": "stderr",
     "output_type": "stream",
     "text": [
      "2024-11-24 01:26:49.437552: I tensorflow/compiler/mlir/mlir_graph_optimization_pass.cc:176] None of the MLIR Optimization Passes are enabled (registered 2)\n",
      "2024-11-24 01:26:49.440640: I tensorflow/core/platform/profile_utils/cpu_utils.cc:114] CPU Frequency: 2592005000 Hz\n"
     ]
    },
    {
     "name": "stdout",
     "output_type": "stream",
     "text": [
      "Epoch 1/20\n"
     ]
    },
    {
     "name": "stderr",
     "output_type": "stream",
     "text": [
      "2024-11-24 01:26:58.559125: I tensorflow/stream_executor/platform/default/dso_loader.cc:53] Successfully opened dynamic library libcublas.so.11\n"
     ]
    },
    {
     "name": "stdout",
     "output_type": "stream",
     "text": [
      "   23/11719 [..............................] - ETA: 1:24 - loss: 1.0910 - accuracy: 0.3058"
     ]
    },
    {
     "name": "stderr",
     "output_type": "stream",
     "text": [
      "2024-11-24 01:26:59.983746: I tensorflow/stream_executor/platform/default/dso_loader.cc:53] Successfully opened dynamic library libcublasLt.so.11\n"
     ]
    },
    {
     "name": "stdout",
     "output_type": "stream",
     "text": [
      "11719/11719 [==============================] - 85s 6ms/step - loss: 0.1510 - accuracy: 0.9404 - val_loss: 0.0662 - val_accuracy: 0.9731\n",
      "Epoch 2/20\n",
      "11719/11719 [==============================] - 70s 6ms/step - loss: 0.0634 - accuracy: 0.9769 - val_loss: 0.0514 - val_accuracy: 0.9809\n",
      "Epoch 3/20\n",
      "11719/11719 [==============================] - 69s 6ms/step - loss: 0.0582 - accuracy: 0.9784 - val_loss: 0.0525 - val_accuracy: 0.9805\n",
      "Epoch 4/20\n",
      "11719/11719 [==============================] - 70s 6ms/step - loss: 0.0559 - accuracy: 0.9793 - val_loss: 0.0520 - val_accuracy: 0.9799\n",
      "Epoch 5/20\n",
      "11719/11719 [==============================] - 69s 6ms/step - loss: 0.0544 - accuracy: 0.9797 - val_loss: 0.0483 - val_accuracy: 0.9823\n",
      "Epoch 6/20\n",
      "11719/11719 [==============================] - 69s 6ms/step - loss: 0.0534 - accuracy: 0.9801 - val_loss: 0.0474 - val_accuracy: 0.9821\n",
      "Epoch 7/20\n",
      "11719/11719 [==============================] - 69s 6ms/step - loss: 0.0525 - accuracy: 0.9803 - val_loss: 0.0516 - val_accuracy: 0.9800\n",
      "Epoch 8/20\n",
      "11719/11719 [==============================] - 71s 6ms/step - loss: 0.0519 - accuracy: 0.9806 - val_loss: 0.0453 - val_accuracy: 0.9828\n",
      "Epoch 9/20\n",
      "11719/11719 [==============================] - 71s 6ms/step - loss: 0.0513 - accuracy: 0.9808 - val_loss: 0.0489 - val_accuracy: 0.9816\n",
      "Epoch 10/20\n",
      "11719/11719 [==============================] - 70s 6ms/step - loss: 0.0510 - accuracy: 0.9811 - val_loss: 0.0518 - val_accuracy: 0.9801\n",
      "Epoch 11/20\n",
      "11719/11719 [==============================] - 70s 6ms/step - loss: 0.0507 - accuracy: 0.9813 - val_loss: 0.0479 - val_accuracy: 0.9823\n",
      "Epoch 12/20\n",
      "11719/11719 [==============================] - 71s 6ms/step - loss: 0.0507 - accuracy: 0.9812 - val_loss: 0.0435 - val_accuracy: 0.9842\n",
      "Epoch 13/20\n",
      "11719/11719 [==============================] - 71s 6ms/step - loss: 0.0501 - accuracy: 0.9816 - val_loss: 0.0459 - val_accuracy: 0.9828\n",
      "Epoch 14/20\n",
      "11719/11719 [==============================] - 70s 6ms/step - loss: 0.0502 - accuracy: 0.9815 - val_loss: 0.0485 - val_accuracy: 0.9818\n",
      "Epoch 15/20\n",
      "11719/11719 [==============================] - 77s 7ms/step - loss: 0.0500 - accuracy: 0.9817 - val_loss: 0.0490 - val_accuracy: 0.9817\n",
      "Epoch 16/20\n",
      "11719/11719 [==============================] - 76s 6ms/step - loss: 0.0495 - accuracy: 0.9818 - val_loss: 0.0446 - val_accuracy: 0.9841\n",
      "Epoch 17/20\n",
      "11719/11719 [==============================] - 73s 6ms/step - loss: 0.0497 - accuracy: 0.9818 - val_loss: 0.0481 - val_accuracy: 0.9817\n",
      "Epoch 18/20\n",
      "11719/11719 [==============================] - 69s 6ms/step - loss: 0.0496 - accuracy: 0.9817 - val_loss: 0.0474 - val_accuracy: 0.9823\n",
      "Epoch 19/20\n",
      "11719/11719 [==============================] - 71s 6ms/step - loss: 0.0493 - accuracy: 0.9819 - val_loss: 0.0470 - val_accuracy: 0.9819\n",
      "Epoch 20/20\n",
      "11719/11719 [==============================] - 72s 6ms/step - loss: 0.0491 - accuracy: 0.9819 - val_loss: 0.0438 - val_accuracy: 0.9836\n"
     ]
    }
   ],
   "source": [
    "history = model.fit(x_train,\n",
    "y_train,\n",
    "epochs=20,\n",
    "batch_size=512,\n",
    "validation_data=(x_val, y_val))"
   ]
  },
  {
   "cell_type": "code",
   "execution_count": 22,
   "id": "99704c04",
   "metadata": {},
   "outputs": [
    {
     "data": {
      "image/png": "[encoded data removed]",
      "text/plain": [
       "<Figure size 432x288 with 1 Axes>"
      ]
     },
     "metadata": {
      "needs_background": "light"
     },
     "output_type": "display_data"
    }
   ],
   "source": [
    "import matplotlib.pyplot as plt\n",
    "\n",
    "loss = history.history['loss']\n",
    "val_loss = history.history['val_loss']\n",
    "epochs = range(1, len(loss) + 1)\n",
    "plt.plot(epochs, loss, 'bo', label='Training loss')\n",
    "plt.plot(epochs, val_loss, 'b', label='Validation loss')\n",
    "plt.title('Training and validation loss - Feedforward Adam opt')\n",
    "plt.xlabel('Epochs')\n",
    "plt.ylabel('Loss')\n",
    "plt.legend()\n",
    "\n",
    "plt.show()"
   ]
  },
  {
   "cell_type": "code",
   "execution_count": 23,
   "id": "38043e94",
   "metadata": {
    "tags": []
   },
   "outputs": [
    {
     "data": {
      "image/png": "[encoded data removed]",
      "text/plain": [
       "<Figure size 432x288 with 1 Axes>"
      ]
     },
     "metadata": {
      "needs_background": "light"
     },
     "output_type": "display_data"
    }
   ],
   "source": [
    "plt.clf()\n",
    "acc = history.history['accuracy']\n",
    "val_acc = history.history['val_accuracy']\n",
    "plt.plot(epochs, acc, 'bo', label='Training acc')\n",
    "plt.plot(epochs, val_acc, 'b', label='Validation acc')\n",
    "plt.title('Training and validation accuracy')\n",
    "plt.xlabel('Epochs')\n",
    "plt.ylabel('Acc')\n",
    "plt.legend()\n",
    "plt.show()"
   ]
  },
  {
   "cell_type": "code",
   "execution_count": 24,
   "id": "ee18bed6",
   "metadata": {},
   "outputs": [
    {
     "name": "stdout",
     "output_type": "stream",
     "text": [
      "Model: \"sequential\"\n",
      "_________________________________________________________________\n",
      "Layer (type)                 Output Shape              Param #   \n",
      "=================================================================\n",
      "dense (Dense)                (None, 45)                405       \n",
      "_________________________________________________________________\n",
      "dense_1 (Dense)              (None, 3)                 138       \n",
      "=================================================================\n",
      "Total params: 543\n",
      "Trainable params: 543\n",
      "Non-trainable params: 0\n",
      "_________________________________________________________________\n"
     ]
    }
   ],
   "source": [
    "model.summary()"
   ]
  },
  {
   "cell_type": "code",
   "execution_count": 25,
   "id": "fa734d28",
   "metadata": {},
   "outputs": [],
   "source": [
    "model.save('feedforward_adamOptDefault.h5')"
   ]
  },
  {
   "cell_type": "code",
   "execution_count": null,
   "id": "edd05883",
   "metadata": {},
   "outputs": [],
   "source": []
  },
  {
   "cell_type": "markdown",
   "id": "976897a1",
   "metadata": {},
   "source": [
    "## datos de test"
   ]
  },
  {
   "cell_type": "markdown",
   "id": "795577a7",
   "metadata": {},
   "source": [
    "## probando el modelo con nuevos datos"
   ]
  },
  {
   "cell_type": "raw",
   "id": "93451c50-89df-44a2-9629-5a53c16c8f1c",
   "metadata": {},
   "source": [
    "results = model.evaluate(x_test, one_hot_test_labels)"
   ]
  },
  {
   "cell_type": "raw",
   "id": "827b1f2e-475a-4001-85f3-75a6beeaffc7",
   "metadata": {},
   "source": [
    "results"
   ]
  },
  {
   "cell_type": "code",
   "execution_count": 26,
   "id": "2462b4b1",
   "metadata": {},
   "outputs": [],
   "source": [
    "predictions = model.predict(x_test)"
   ]
  },
  {
   "cell_type": "code",
   "execution_count": 27,
   "id": "fcd0f0bf",
   "metadata": {},
   "outputs": [
    {
     "data": {
      "text/plain": [
       "array([[0.00754799, 0.8777572 , 0.11469477],\n",
       "       [0.01874568, 0.9233815 , 0.05787282],\n",
       "       [0.02115779, 0.7642821 , 0.2145601 ],\n",
       "       ...,\n",
       "       [0.49712262, 0.33027697, 0.17260046],\n",
       "       [0.34533775, 0.49445674, 0.16020554],\n",
       "       [0.27653542, 0.5792221 , 0.14424253]], dtype=float32)"
      ]
     },
     "execution_count": 27,
     "metadata": {},
     "output_type": "execute_result"
    }
   ],
   "source": [
    "predictions"
   ]
  },
  {
   "cell_type": "code",
   "execution_count": 28,
   "id": "60af1c37",
   "metadata": {},
   "outputs": [],
   "source": [
    "y_pred=np.zeros(len(x_test))\n",
    "for e in range(len(predictions)):\n",
    "    y_pred[e]=np.argmax(predictions[e])"
   ]
  },
  {
   "cell_type": "code",
   "execution_count": 29,
   "id": "b62dada0",
   "metadata": {},
   "outputs": [
    {
     "data": {
      "text/plain": [
       "array([0., 1., 2.])"
      ]
     },
     "execution_count": 29,
     "metadata": {},
     "output_type": "execute_result"
    }
   ],
   "source": [
    "np.unique(y_pred)"
   ]
  },
  {
   "cell_type": "code",
   "execution_count": 30,
   "id": "ab4302d7",
   "metadata": {
    "collapsed": true,
    "jupyter": {
     "outputs_hidden": true
    },
    "tags": []
   },
   "outputs": [
    {
     "ename": "NameError",
     "evalue": "name 'sr_test' is not defined",
     "output_type": "error",
     "traceback": [
      "\u001b[0;31m---------------------------------------------------------------------------\u001b[0m",
      "\u001b[0;31mNameError\u001b[0m                                 Traceback (most recent call last)",
      "\u001b[0;32m/tmp/ipykernel_739/894714830.py\u001b[0m in \u001b[0;36m<module>\u001b[0;34m\u001b[0m\n\u001b[0;32m----> 1\u001b[0;31m \u001b[0mprint\u001b[0m\u001b[0;34m(\u001b[0m\u001b[0mstr\u001b[0m\u001b[0;34m(\u001b[0m\u001b[0mnp\u001b[0m\u001b[0;34m.\u001b[0m\u001b[0mcount_nonzero\u001b[0m\u001b[0;34m(\u001b[0m\u001b[0my_pred\u001b[0m\u001b[0;34m==\u001b[0m\u001b[0;36m0\u001b[0m\u001b[0;34m)\u001b[0m\u001b[0;34m)\u001b[0m\u001b[0;34m+\u001b[0m\u001b[0;34m' puntos clasificados como SR vs. '\u001b[0m\u001b[0;34m+\u001b[0m\u001b[0mstr\u001b[0m\u001b[0;34m(\u001b[0m\u001b[0msr_test\u001b[0m\u001b[0;34m)\u001b[0m\u001b[0;34m)\u001b[0m\u001b[0;34m\u001b[0m\u001b[0;34m\u001b[0m\u001b[0m\n\u001b[0m\u001b[1;32m      2\u001b[0m \u001b[0mprint\u001b[0m\u001b[0;34m(\u001b[0m\u001b[0mstr\u001b[0m\u001b[0;34m(\u001b[0m\u001b[0mnp\u001b[0m\u001b[0;34m.\u001b[0m\u001b[0mcount_nonzero\u001b[0m\u001b[0;34m(\u001b[0m\u001b[0my_pred\u001b[0m\u001b[0;34m==\u001b[0m\u001b[0;36m1\u001b[0m\u001b[0;34m)\u001b[0m\u001b[0;34m)\u001b[0m\u001b[0;34m+\u001b[0m\u001b[0;34m' puntos clasificados como suelo vs. '\u001b[0m\u001b[0;34m+\u001b[0m\u001b[0mstr\u001b[0m\u001b[0;34m(\u001b[0m\u001b[0msuelo_test\u001b[0m\u001b[0;34m)\u001b[0m\u001b[0;34m)\u001b[0m\u001b[0;34m\u001b[0m\u001b[0;34m\u001b[0m\u001b[0m\n\u001b[1;32m      3\u001b[0m \u001b[0mprint\u001b[0m\u001b[0;34m(\u001b[0m\u001b[0mstr\u001b[0m\u001b[0;34m(\u001b[0m\u001b[0mnp\u001b[0m\u001b[0;34m.\u001b[0m\u001b[0mcount_nonzero\u001b[0m\u001b[0;34m(\u001b[0m\u001b[0my_pred\u001b[0m\u001b[0;34m==\u001b[0m\u001b[0;36m2\u001b[0m\u001b[0;34m)\u001b[0m\u001b[0;34m)\u001b[0m\u001b[0;34m+\u001b[0m\u001b[0;34m' puntos clasificados como noSuelo vs. '\u001b[0m\u001b[0;34m+\u001b[0m\u001b[0mstr\u001b[0m\u001b[0;34m(\u001b[0m\u001b[0mnosuelo_test\u001b[0m\u001b[0;34m)\u001b[0m\u001b[0;34m)\u001b[0m\u001b[0;34m\u001b[0m\u001b[0;34m\u001b[0m\u001b[0m\n\u001b[1;32m      4\u001b[0m \u001b[0;34m\u001b[0m\u001b[0m\n\u001b[1;32m      5\u001b[0m \u001b[0mnp\u001b[0m\u001b[0;34m.\u001b[0m\u001b[0mcount_nonzero\u001b[0m\u001b[0;34m(\u001b[0m\u001b[0my_pred\u001b[0m\u001b[0;34m==\u001b[0m\u001b[0;36m0\u001b[0m\u001b[0;34m)\u001b[0m\u001b[0;34m+\u001b[0m\u001b[0mnp\u001b[0m\u001b[0;34m.\u001b[0m\u001b[0mcount_nonzero\u001b[0m\u001b[0;34m(\u001b[0m\u001b[0my_pred\u001b[0m\u001b[0;34m==\u001b[0m\u001b[0;36m1\u001b[0m\u001b[0;34m)\u001b[0m\u001b[0;34m+\u001b[0m\u001b[0mnp\u001b[0m\u001b[0;34m.\u001b[0m\u001b[0mcount_nonzero\u001b[0m\u001b[0;34m(\u001b[0m\u001b[0my_pred\u001b[0m\u001b[0;34m==\u001b[0m\u001b[0;36m2\u001b[0m\u001b[0;34m)\u001b[0m\u001b[0;34m\u001b[0m\u001b[0;34m\u001b[0m\u001b[0m\n",
      "\u001b[0;31mNameError\u001b[0m: name 'sr_test' is not defined"
     ]
    }
   ],
   "source": [
    "print(str(np.count_nonzero(y_pred==0))+' puntos clasificados como SR vs. '+str(sr_test))\n",
    "print(str(np.count_nonzero(y_pred==1))+' puntos clasificados como suelo vs. '+str(suelo_test))\n",
    "print(str(np.count_nonzero(y_pred==2))+' puntos clasificados como noSuelo vs. '+str(nosuelo_test))\n",
    "\n",
    "np.count_nonzero(y_pred==0)+np.count_nonzero(y_pred==1)+np.count_nonzero(y_pred==2)"
   ]
  },
  {
   "cell_type": "code",
   "execution_count": 31,
   "id": "1b6ed453",
   "metadata": {},
   "outputs": [
    {
     "name": "stdout",
     "output_type": "stream",
     "text": [
      "0 puntos clasificados correctamente\n"
     ]
    },
    {
     "name": "stderr",
     "output_type": "stream",
     "text": [
      "/home/xrg/anaconda3/envs/lidargpu/lib/python3.7/site-packages/ipykernel_launcher.py:1: DeprecationWarning: elementwise comparison failed; this will raise an error in the future.\n",
      "  \"\"\"Entry point for launching an IPython kernel.\n"
     ]
    }
   ],
   "source": [
    "print(str(np.count_nonzero(y_test==y_pred))+' puntos clasificados correctamente')"
   ]
  },
  {
   "cell_type": "markdown",
   "id": "6f1fc96e",
   "metadata": {},
   "source": [
    "# exportando a ply"
   ]
  },
  {
   "cell_type": "code",
   "execution_count": 32,
   "id": "f2846b1f",
   "metadata": {},
   "outputs": [],
   "source": [
    "arch_ply='feedforward_AdamaDefault'"
   ]
  },
  {
   "cell_type": "code",
   "execution_count": 33,
   "id": "feb3fd34",
   "metadata": {},
   "outputs": [],
   "source": [
    "encabezado=['X', 'Y', 'Z', 'clase']"
   ]
  },
  {
   "cell_type": "code",
   "execution_count": 34,
   "id": "55ea23af",
   "metadata": {},
   "outputs": [
    {
     "data": {
      "text/plain": [
       "array([[ 1903.38293457, 21122.49023438,    38.99118042],\n",
       "       [ 1903.40454102, 21122.48632812,    38.99028397],\n",
       "       [ 1903.42822266, 21122.48046875,    38.99054718],\n",
       "       ...,\n",
       "       [ 1905.58642578, 21199.71679688,    37.98323059],\n",
       "       [ 1905.59326172, 21199.71875   ,    37.98386002],\n",
       "       [ 1905.59985352, 21199.71875   ,    37.98496628]])"
      ]
     },
     "execution_count": 34,
     "metadata": {},
     "output_type": "execute_result"
    }
   ],
   "source": [
    "ptos_test"
   ]
  },
  {
   "cell_type": "code",
   "execution_count": 35,
   "id": "9b7e7665",
   "metadata": {},
   "outputs": [
    {
     "data": {
      "text/plain": [
       "array([1., 1., 1., ..., 0., 1., 1.])"
      ]
     },
     "execution_count": 35,
     "metadata": {},
     "output_type": "execute_result"
    }
   ],
   "source": [
    "y_pred"
   ]
  },
  {
   "cell_type": "code",
   "execution_count": 36,
   "id": "39eedf05",
   "metadata": {},
   "outputs": [],
   "source": [
    "puntos=np.concatenate((ptos_test, y_pred[:,np.newaxis]), axis=1)"
   ]
  },
  {
   "cell_type": "code",
   "execution_count": 37,
   "id": "96df9b65",
   "metadata": {},
   "outputs": [
    {
     "data": {
      "text/plain": [
       "(5000000, 4)"
      ]
     },
     "execution_count": 37,
     "metadata": {},
     "output_type": "execute_result"
    }
   ],
   "source": [
    "puntos.shape"
   ]
  },
  {
   "cell_type": "code",
   "execution_count": 42,
   "id": "12e76b5a",
   "metadata": {},
   "outputs": [],
   "source": [
    "from ply import *"
   ]
  },
  {
   "cell_type": "code",
   "execution_count": 43,
   "id": "cfd5af31",
   "metadata": {},
   "outputs": [
    {
     "data": {
      "text/plain": [
       "True"
      ]
     },
     "execution_count": 43,
     "metadata": {},
     "output_type": "execute_result"
    }
   ],
   "source": [
    "write_ply(arch_ply, puntos, encabezado)"
   ]
  },
  {
   "cell_type": "raw",
   "id": "ef295d80",
   "metadata": {},
   "source": []
  }
 ],
 "metadata": {
  "kernelspec": {
   "display_name": "Python 3 (ipykernel)",
   "language": "python",
   "name": "python3"
  },
  "language_info": {
   "codemirror_mode": {
    "name": "ipython",
    "version": 3
   },
   "file_extension": ".py",
   "mimetype": "text/x-python",
   "name": "python",
   "nbconvert_exporter": "python",
   "pygments_lexer": "ipython3",
   "version": "3.7.12"
  }
 },
 "nbformat": 4,
 "nbformat_minor": 5
}
